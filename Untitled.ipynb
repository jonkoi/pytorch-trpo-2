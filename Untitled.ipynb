{
 "cells": [
  {
   "cell_type": "code",
   "execution_count": 1,
   "metadata": {},
   "outputs": [],
   "source": [
    "import argparse\n",
    "import subprocess\n",
    "from itertools import count\n",
    "import torch\n",
    "from tensorboard_logger import configure, log_value\n",
    "\n",
    "from models import DQNRegressor, DQNSoftmax\n",
    "from trpo_agent import TRPOAgent\n",
    "from utils.atari_wrapper import make_atari, wrap_deepmind\n",
    "\n",
    "\n",
    "def main(env_id):\n",
    "  env = wrap_deepmind(make_atari(env_id), scale=True)\n",
    "  policy_model = DQNSoftmax(env.action_space.n)\n",
    "  value_function_model = DQNRegressor()\n",
    "  agent = TRPOAgent(env, policy_model, value_function_model)\n",
    "\n",
    "  subprocess.Popen([\"tensorboard\", \"--logdir\", \"runs\"])\n",
    "  configure(\"runs/pong-run\")\n",
    "\n",
    "  for t in count():\n",
    "    reward = agent.step()\n",
    "    log_value('score', reward, t)\n",
    "    if t % 100 == 0:\n",
    "      torch.save(policy_model.state_dict(), \"policy_model.pth\")"
   ]
  },
  {
   "cell_type": "code",
   "execution_count": null,
   "metadata": {},
   "outputs": [],
   "source": []
  }
 ],
 "metadata": {
  "kernelspec": {
   "display_name": "Python 3",
   "language": "python",
   "name": "python3"
  },
  "language_info": {
   "codemirror_mode": {
    "name": "ipython",
    "version": 3
   },
   "file_extension": ".py",
   "mimetype": "text/x-python",
   "name": "python",
   "nbconvert_exporter": "python",
   "pygments_lexer": "ipython3",
   "version": "3.6.7"
  }
 },
 "nbformat": 4,
 "nbformat_minor": 2
}
